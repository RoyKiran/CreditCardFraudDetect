{
 "cells": [
  {
   "cell_type": "markdown",
   "metadata": {},
   "source": [
    "# Hybrid Deep Learning Model\n",
    "# SOM + ANN Model\n",
    "\n",
    "On Credit card fraud detection dataset first we apply unsupervised learning - SOM and the supervised learning - ANN"
   ]
  },
  {
   "cell_type": "code",
   "execution_count": 34,
   "metadata": {},
   "outputs": [],
   "source": [
    "# Import the libraries\n",
    "import pandas as pd, numpy as np\n",
    "import matplotlib.pyplot as plt\n",
    "import tensorflow as tf"
   ]
  },
  {
   "cell_type": "code",
   "execution_count": 35,
   "metadata": {},
   "outputs": [
    {
     "data": {
      "text/html": [
       "<div>\n",
       "<style scoped>\n",
       "    .dataframe tbody tr th:only-of-type {\n",
       "        vertical-align: middle;\n",
       "    }\n",
       "\n",
       "    .dataframe tbody tr th {\n",
       "        vertical-align: top;\n",
       "    }\n",
       "\n",
       "    .dataframe thead th {\n",
       "        text-align: right;\n",
       "    }\n",
       "</style>\n",
       "<table border=\"1\" class=\"dataframe\">\n",
       "  <thead>\n",
       "    <tr style=\"text-align: right;\">\n",
       "      <th></th>\n",
       "      <th>CustomerID</th>\n",
       "      <th>A1</th>\n",
       "      <th>A2</th>\n",
       "      <th>A3</th>\n",
       "      <th>A4</th>\n",
       "      <th>A5</th>\n",
       "      <th>A6</th>\n",
       "      <th>A7</th>\n",
       "      <th>A8</th>\n",
       "      <th>A9</th>\n",
       "      <th>A10</th>\n",
       "      <th>A11</th>\n",
       "      <th>A12</th>\n",
       "      <th>A13</th>\n",
       "      <th>A14</th>\n",
       "      <th>Class</th>\n",
       "    </tr>\n",
       "  </thead>\n",
       "  <tbody>\n",
       "    <tr>\n",
       "      <th>0</th>\n",
       "      <td>15776156</td>\n",
       "      <td>1</td>\n",
       "      <td>22.08</td>\n",
       "      <td>11.46</td>\n",
       "      <td>2</td>\n",
       "      <td>4</td>\n",
       "      <td>4</td>\n",
       "      <td>1.585</td>\n",
       "      <td>0</td>\n",
       "      <td>0</td>\n",
       "      <td>0</td>\n",
       "      <td>1</td>\n",
       "      <td>2</td>\n",
       "      <td>100</td>\n",
       "      <td>1213</td>\n",
       "      <td>0</td>\n",
       "    </tr>\n",
       "    <tr>\n",
       "      <th>1</th>\n",
       "      <td>15739548</td>\n",
       "      <td>0</td>\n",
       "      <td>22.67</td>\n",
       "      <td>7.00</td>\n",
       "      <td>2</td>\n",
       "      <td>8</td>\n",
       "      <td>4</td>\n",
       "      <td>0.165</td>\n",
       "      <td>0</td>\n",
       "      <td>0</td>\n",
       "      <td>0</td>\n",
       "      <td>0</td>\n",
       "      <td>2</td>\n",
       "      <td>160</td>\n",
       "      <td>1</td>\n",
       "      <td>0</td>\n",
       "    </tr>\n",
       "    <tr>\n",
       "      <th>2</th>\n",
       "      <td>15662854</td>\n",
       "      <td>0</td>\n",
       "      <td>29.58</td>\n",
       "      <td>1.75</td>\n",
       "      <td>1</td>\n",
       "      <td>4</td>\n",
       "      <td>4</td>\n",
       "      <td>1.250</td>\n",
       "      <td>0</td>\n",
       "      <td>0</td>\n",
       "      <td>0</td>\n",
       "      <td>1</td>\n",
       "      <td>2</td>\n",
       "      <td>280</td>\n",
       "      <td>1</td>\n",
       "      <td>0</td>\n",
       "    </tr>\n",
       "    <tr>\n",
       "      <th>3</th>\n",
       "      <td>15687688</td>\n",
       "      <td>0</td>\n",
       "      <td>21.67</td>\n",
       "      <td>11.50</td>\n",
       "      <td>1</td>\n",
       "      <td>5</td>\n",
       "      <td>3</td>\n",
       "      <td>0.000</td>\n",
       "      <td>1</td>\n",
       "      <td>1</td>\n",
       "      <td>11</td>\n",
       "      <td>1</td>\n",
       "      <td>2</td>\n",
       "      <td>0</td>\n",
       "      <td>1</td>\n",
       "      <td>1</td>\n",
       "    </tr>\n",
       "    <tr>\n",
       "      <th>4</th>\n",
       "      <td>15715750</td>\n",
       "      <td>1</td>\n",
       "      <td>20.17</td>\n",
       "      <td>8.17</td>\n",
       "      <td>2</td>\n",
       "      <td>6</td>\n",
       "      <td>4</td>\n",
       "      <td>1.960</td>\n",
       "      <td>1</td>\n",
       "      <td>1</td>\n",
       "      <td>14</td>\n",
       "      <td>0</td>\n",
       "      <td>2</td>\n",
       "      <td>60</td>\n",
       "      <td>159</td>\n",
       "      <td>1</td>\n",
       "    </tr>\n",
       "  </tbody>\n",
       "</table>\n",
       "</div>"
      ],
      "text/plain": [
       "   CustomerID  A1     A2     A3  A4  A5  A6     A7  A8  A9  A10  A11  A12  \\\n",
       "0    15776156   1  22.08  11.46   2   4   4  1.585   0   0    0    1    2   \n",
       "1    15739548   0  22.67   7.00   2   8   4  0.165   0   0    0    0    2   \n",
       "2    15662854   0  29.58   1.75   1   4   4  1.250   0   0    0    1    2   \n",
       "3    15687688   0  21.67  11.50   1   5   3  0.000   1   1   11    1    2   \n",
       "4    15715750   1  20.17   8.17   2   6   4  1.960   1   1   14    0    2   \n",
       "\n",
       "   A13   A14  Class  \n",
       "0  100  1213      0  \n",
       "1  160     1      0  \n",
       "2  280     1      0  \n",
       "3    0     1      1  \n",
       "4   60   159      1  "
      ]
     },
     "execution_count": 35,
     "metadata": {},
     "output_type": "execute_result"
    }
   ],
   "source": [
    "# Import dataset\n",
    "dataset = pd.read_csv(\"./Self_Organizing_Maps/Credit_Card_Applications.csv\")\n",
    "dataset.head()"
   ]
  },
  {
   "cell_type": "code",
   "execution_count": 36,
   "metadata": {},
   "outputs": [
    {
     "data": {
      "text/html": [
       "<div>\n",
       "<style scoped>\n",
       "    .dataframe tbody tr th:only-of-type {\n",
       "        vertical-align: middle;\n",
       "    }\n",
       "\n",
       "    .dataframe tbody tr th {\n",
       "        vertical-align: top;\n",
       "    }\n",
       "\n",
       "    .dataframe thead th {\n",
       "        text-align: right;\n",
       "    }\n",
       "</style>\n",
       "<table border=\"1\" class=\"dataframe\">\n",
       "  <thead>\n",
       "    <tr style=\"text-align: right;\">\n",
       "      <th></th>\n",
       "      <th>CustomerID</th>\n",
       "      <th>A1</th>\n",
       "      <th>A2</th>\n",
       "      <th>A3</th>\n",
       "      <th>A4</th>\n",
       "      <th>A5</th>\n",
       "      <th>A6</th>\n",
       "      <th>A7</th>\n",
       "      <th>A8</th>\n",
       "      <th>A9</th>\n",
       "      <th>A10</th>\n",
       "      <th>A11</th>\n",
       "      <th>A12</th>\n",
       "      <th>A13</th>\n",
       "      <th>A14</th>\n",
       "      <th>Class</th>\n",
       "    </tr>\n",
       "  </thead>\n",
       "  <tbody>\n",
       "  </tbody>\n",
       "</table>\n",
       "</div>"
      ],
      "text/plain": [
       "Empty DataFrame\n",
       "Columns: [CustomerID, A1, A2, A3, A4, A5, A6, A7, A8, A9, A10, A11, A12, A13, A14, Class]\n",
       "Index: []"
      ]
     },
     "execution_count": 36,
     "metadata": {},
     "output_type": "execute_result"
    }
   ],
   "source": [
    "dataset[dataset['CustomerID']==3901993731364]"
   ]
  },
  {
   "cell_type": "markdown",
   "metadata": {},
   "source": [
    "### Identify the fraud with Self-Organising maps (Refer SOM_tut7)"
   ]
  },
  {
   "cell_type": "code",
   "execution_count": 39,
   "metadata": {},
   "outputs": [
    {
     "data": {
      "image/png": "[encoded data removed]",
      "text/plain": [
       "<Figure size 432x288 with 2 Axes>"
      ]
     },
     "metadata": {
      "needs_background": "light"
     },
     "output_type": "display_data"
    }
   ],
   "source": [
    "from sklearn.preprocessing import MinMaxScaler\n",
    "from minisom import MiniSom\n",
    "from pylab import bone, pcolor, colorbar, plot, show\n",
    "\n",
    "## Select relevant data from dataset\n",
    "X = dataset.iloc[:,:-1].values  # [:,:-1] -> all rows & allcolumns except the last column.\n",
    "y = dataset.iloc[:,-1].values   # [:,-1] -> all values of last class columns\n",
    "\n",
    "## Feature Scaling\n",
    "scaler = MinMaxScaler(feature_range=(0,1))  # feature_range -> we want our dataset to be in range 0 to 1\n",
    "X = scaler.fit_transform(X) # fit(X) provides all the info scaler needs to perform normalization & transform(X) stores the normalized value in X\n",
    "\n",
    "## Define SOM object\n",
    "som = MiniSom(x=10, y=10, input_len=15, sigma=1.0, learning_rate=0.5)  # This object is a SOM that will be trained on X only\n",
    "\n",
    "# Initialize Random weights\n",
    "som.random_weights_init(X)        # random_weights_init(data) \n",
    "\n",
    "# Train the SOM on X & identify patterns\n",
    "som.train_random(data = X, num_iteration=100)       # train_random(data, num_iteration -> no. of times data should be repeated on model)\n",
    "\n",
    "## Visualizing the results\n",
    "bone()  # Initialize the figure - i.e. define the window that will contain the map\n",
    "pcolor(som.distance_map().T)  # Put different winning nodes on map \n",
    "colorbar()     # update legend \n",
    "\n",
    "markers = ['o','s']  # o -> circle & s -> square\n",
    "colors = ['r','g']   # r -> red & g -> green\n",
    "  \n",
    "\n",
    "for i, x in enumerate(X):   # i-> index to move through rows & x -> vector/list of all feature values of a customer at index i.\n",
    "    \n",
    "    # Get winning node for a customer\n",
    "    w = som.winner(x)\n",
    "    \n",
    "    # For the above winning node, place the marker on it. \n",
    "    # In SOM, each winning node is represented by square as shown in above heatmap.\n",
    "    # & we basically want to put the marker at the center of the square for which we require its co-ordinates.\n",
    "    plot(w[0]+0.5, w[1]+0.5, markers[y[i]], markeredgecolor = colors[y[i]],\n",
    "        markerfacecolor = 'None', markersize = 10, markeredgewidth = 2)\n",
    "                            # y[i] = 0 or 1\n",
    "                            # We are not coloring the marker, bcoz at a winning node, we can have multiple markers\n",
    "\n",
    "show()   # Show the graph\n"
   ]
  },
  {
   "cell_type": "code",
   "execution_count": 40,
   "metadata": {},
   "outputs": [
    {
     "name": "stdout",
     "output_type": "stream",
     "text": [
      "15587297.0\n"
     ]
    }
   ],
   "source": [
    "## finding frauds using the mapping\n",
    "mappings = som.win_map(X)\n",
    "\n",
    "frauds = np.concatenate((mappings[(6,1)], mappings[(4,1)]), axis=0)       # Form a list of all potential customers                                   \n",
    "frauds = scaler.inverse_transform(frauds)    # Inverse the scaling\n",
    "\n",
    "print(frauds[:,0][0])"
   ]
  },
  {
   "cell_type": "markdown",
   "metadata": {},
   "source": [
    "### Going from supervised to unsupervised Deep learning Model"
   ]
  },
  {
   "cell_type": "code",
   "execution_count": 41,
   "metadata": {},
   "outputs": [
    {
     "data": {
      "text/plain": [
       "'\\n## Step 1: Initialize the output variable as a vector of 0s\\n#is_fraud = np.zeros(len(dataset))\\nis_fraud = np.zeros(dataset.shape[0])\\n\\n## Step 2: Replace 0 with 1 for potential fraud customers\\nfor i in range(len(dataset)):\\n    if dataset.iloc[i,0] in frauds:\\n        is_fraud[i] = 1\\n'"
      ]
     },
     "execution_count": 41,
     "metadata": {},
     "output_type": "execute_result"
    }
   ],
   "source": [
    "# Creating matrix of features\n",
    "customers = dataset.iloc[:,1:].values    # Except the customer Id, all the columns may be useful in determining if there is a fraud\n",
    "\n",
    "\n",
    "# Creating the dependent variable\n",
    "'''\n",
    "This will be a variable that denotes if there is a fraud or not (1 or 0 resp).\n",
    "So we use the potential list of customers who did fraud provided by our SOM model.\n",
    "'''\n",
    "# This can be done in 2 ways:-\n",
    "\n",
    "### --------- Method 1: Adding dependable variable using apply() -------------\n",
    "\n",
    "is_fraud =  dataset['CustomerID'].apply(lambda x: 1 if x in frauds[:,0] else 0).values\n",
    "\n",
    "\n",
    "### --------- Method 2: Adding the dependable variable using for loop-------------\n",
    "'''\n",
    "## Step 1: Initialize the output variable as a vector of 0s\n",
    "#is_fraud = np.zeros(len(dataset))\n",
    "is_fraud = np.zeros(dataset.shape[0])\n",
    "\n",
    "## Step 2: Replace 0 with 1 for potential fraud customers\n",
    "for i in range(len(dataset)):\n",
    "    if dataset.iloc[i,0] in frauds:\n",
    "        is_fraud[i] = 1\n",
    "'''\n",
    "#print(is_fraud)"
   ]
  },
  {
   "cell_type": "code",
   "execution_count": 43,
   "metadata": {},
   "outputs": [
    {
     "name": "stdout",
     "output_type": "stream",
     "text": [
      "Epoch 1/5\n",
      "345/345 [==============================] - 1s 3ms/step - loss: 0.5806 - accuracy: 0.9507\n",
      "Epoch 2/5\n",
      "345/345 [==============================] - 1s 3ms/step - loss: 0.3641 - accuracy: 0.9536\n",
      "Epoch 3/5\n",
      "345/345 [==============================] - 1s 4ms/step - loss: 0.2500 - accuracy: 0.9536\n",
      "Epoch 4/5\n",
      "345/345 [==============================] - ETA: 0s - loss: 0.1691 - accuracy: 0.95 - 2s 6ms/step - loss: 0.1702 - accuracy: 0.9536\n",
      "Epoch 5/5\n",
      "345/345 [==============================] - 1s 4ms/step - loss: 0.1375 - accuracy: 0.9536\n"
     ]
    },
    {
     "data": {
      "text/plain": [
       "<tensorflow.python.keras.callbacks.History at 0x1d8dcaba4c8>"
      ]
     },
     "execution_count": 43,
     "metadata": {},
     "output_type": "execute_result"
    }
   ],
   "source": [
    "# *****  Forming the ANN model ***********\n",
    "\n",
    "# Feature Scaling\n",
    "from sklearn.preprocessing import StandardScaler\n",
    "sc = StandardScaler()\n",
    "customers  = sc.fit_transform(customers)\n",
    "\n",
    "# Building ANN\n",
    "ann_classifier = tf.keras.models.Sequential()   # Initialize ann as a sequence of layers\n",
    "ann_classifier.add(tf.keras.layers.Dense(units=2, activation='relu', kernel_initializer='uniform', input_dim=15))   # Dense(units -># To add fully connected layer into ANN, use the dense class\n",
    "ann_classifier.add(tf.keras.layers.Dense(units=1, activation='sigmoid', kernel_initializer='uniform'))   # Add output layer\n",
    "\n",
    "ann_classifier.compile(optimizer= 'adam' , loss='binary_crossentropy' , metrics= ['accuracy'] ) # Compile the ANN with optimizer/loss function\n",
    "\n",
    "ann_classifier.fit(customers, is_fraud, batch_size=2, epochs=5 )  # Here we have few observations & features\n"
   ]
  }
 ],
 "metadata": {
  "kernelspec": {
   "display_name": "Python 3",
   "language": "python",
   "name": "python3"
  },
  "language_info": {
   "codemirror_mode": {
    "name": "ipython",
    "version": 3
   },
   "file_extension": ".py",
   "mimetype": "text/x-python",
   "name": "python",
   "nbconvert_exporter": "python",
   "pygments_lexer": "ipython3",
   "version": "3.8.5"
  }
 },
 "nbformat": 4,
 "nbformat_minor": 4
}
